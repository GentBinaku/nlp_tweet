{
 "cells": [
  {
   "cell_type": "code",
   "execution_count": 54,
   "id": "88aa8f3e-4a49-4fc7-9691-2d475fb1c8bd",
   "metadata": {},
   "outputs": [],
   "source": [
    "#Torch import\n",
    "import torch\n",
    "from torch import nn\n",
    "from torch.utils.data import random_split\n",
    "from torch.optim import Adam\n",
    "from torch.optim.lr_scheduler import ReduceLROnPlateau\n",
    "import torch.nn.functional as F\n",
    "from torch.utils.data import TensorDataset, DataLoader\n",
    "\n",
    "\n",
    "\n",
    "import pandas as pd\n",
    "import pandas as pd\n",
    "import numpy as np\n",
    "import matplotlib.pyplot as plt\n",
    "from sklearn.preprocessing import LabelEncoder\n",
    "from sklearn.metrics import confusion_matrix, f1_score, precision_score, recall_score\n",
    "import seaborn as sns\n",
    "from IPython.display import HTML"
   ]
  },
  {
   "cell_type": "code",
   "execution_count": 16,
   "id": "549e1db5-95e7-4fd3-b922-d4b09a1995fa",
   "metadata": {},
   "outputs": [],
   "source": [
    "train_path = \"data/train.csv\""
   ]
  },
  {
   "cell_type": "code",
   "execution_count": 17,
   "id": "447a98ba-3c7d-4516-beef-0b43552bc21e",
   "metadata": {},
   "outputs": [],
   "source": [
    "test_path = \"data/test.csv\""
   ]
  },
  {
   "cell_type": "markdown",
   "id": "f561d201-0d8f-4bd7-b1df-950eacc5f589",
   "metadata": {},
   "source": [
    "# EDA"
   ]
  },
  {
   "cell_type": "code",
   "execution_count": 18,
   "id": "30230a60-4d90-4dc6-b202-156430274b44",
   "metadata": {},
   "outputs": [],
   "source": [
    "train_df = pd.read_csv(train_path)\n",
    "test_df  = pd.read_csv(test_path)"
   ]
  },
  {
   "cell_type": "code",
   "execution_count": 19,
   "id": "62cc99a3-de70-4d72-974d-6017a450d219",
   "metadata": {},
   "outputs": [
    {
     "data": {
      "text/html": [
       "<div>\n",
       "<style scoped>\n",
       "    .dataframe tbody tr th:only-of-type {\n",
       "        vertical-align: middle;\n",
       "    }\n",
       "\n",
       "    .dataframe tbody tr th {\n",
       "        vertical-align: top;\n",
       "    }\n",
       "\n",
       "    .dataframe thead th {\n",
       "        text-align: right;\n",
       "    }\n",
       "</style>\n",
       "<table border=\"1\" class=\"dataframe\">\n",
       "  <thead>\n",
       "    <tr style=\"text-align: right;\">\n",
       "      <th></th>\n",
       "      <th>id</th>\n",
       "      <th>keyword</th>\n",
       "      <th>location</th>\n",
       "      <th>text</th>\n",
       "      <th>target</th>\n",
       "    </tr>\n",
       "  </thead>\n",
       "  <tbody>\n",
       "    <tr>\n",
       "      <th>0</th>\n",
       "      <td>1</td>\n",
       "      <td>NaN</td>\n",
       "      <td>NaN</td>\n",
       "      <td>Our Deeds are the Reason of this #earthquake M...</td>\n",
       "      <td>1</td>\n",
       "    </tr>\n",
       "    <tr>\n",
       "      <th>1</th>\n",
       "      <td>4</td>\n",
       "      <td>NaN</td>\n",
       "      <td>NaN</td>\n",
       "      <td>Forest fire near La Ronge Sask. Canada</td>\n",
       "      <td>1</td>\n",
       "    </tr>\n",
       "    <tr>\n",
       "      <th>2</th>\n",
       "      <td>5</td>\n",
       "      <td>NaN</td>\n",
       "      <td>NaN</td>\n",
       "      <td>All residents asked to 'shelter in place' are ...</td>\n",
       "      <td>1</td>\n",
       "    </tr>\n",
       "    <tr>\n",
       "      <th>3</th>\n",
       "      <td>6</td>\n",
       "      <td>NaN</td>\n",
       "      <td>NaN</td>\n",
       "      <td>13,000 people receive #wildfires evacuation or...</td>\n",
       "      <td>1</td>\n",
       "    </tr>\n",
       "    <tr>\n",
       "      <th>4</th>\n",
       "      <td>7</td>\n",
       "      <td>NaN</td>\n",
       "      <td>NaN</td>\n",
       "      <td>Just got sent this photo from Ruby #Alaska as ...</td>\n",
       "      <td>1</td>\n",
       "    </tr>\n",
       "    <tr>\n",
       "      <th>...</th>\n",
       "      <td>...</td>\n",
       "      <td>...</td>\n",
       "      <td>...</td>\n",
       "      <td>...</td>\n",
       "      <td>...</td>\n",
       "    </tr>\n",
       "    <tr>\n",
       "      <th>7608</th>\n",
       "      <td>10869</td>\n",
       "      <td>NaN</td>\n",
       "      <td>NaN</td>\n",
       "      <td>Two giant cranes holding a bridge collapse int...</td>\n",
       "      <td>1</td>\n",
       "    </tr>\n",
       "    <tr>\n",
       "      <th>7609</th>\n",
       "      <td>10870</td>\n",
       "      <td>NaN</td>\n",
       "      <td>NaN</td>\n",
       "      <td>@aria_ahrary @TheTawniest The out of control w...</td>\n",
       "      <td>1</td>\n",
       "    </tr>\n",
       "    <tr>\n",
       "      <th>7610</th>\n",
       "      <td>10871</td>\n",
       "      <td>NaN</td>\n",
       "      <td>NaN</td>\n",
       "      <td>M1.94 [01:04 UTC]?5km S of Volcano Hawaii. htt...</td>\n",
       "      <td>1</td>\n",
       "    </tr>\n",
       "    <tr>\n",
       "      <th>7611</th>\n",
       "      <td>10872</td>\n",
       "      <td>NaN</td>\n",
       "      <td>NaN</td>\n",
       "      <td>Police investigating after an e-bike collided ...</td>\n",
       "      <td>1</td>\n",
       "    </tr>\n",
       "    <tr>\n",
       "      <th>7612</th>\n",
       "      <td>10873</td>\n",
       "      <td>NaN</td>\n",
       "      <td>NaN</td>\n",
       "      <td>The Latest: More Homes Razed by Northern Calif...</td>\n",
       "      <td>1</td>\n",
       "    </tr>\n",
       "  </tbody>\n",
       "</table>\n",
       "<p>7613 rows × 5 columns</p>\n",
       "</div>"
      ],
      "text/plain": [
       "         id keyword location  \\\n",
       "0         1     NaN      NaN   \n",
       "1         4     NaN      NaN   \n",
       "2         5     NaN      NaN   \n",
       "3         6     NaN      NaN   \n",
       "4         7     NaN      NaN   \n",
       "...     ...     ...      ...   \n",
       "7608  10869     NaN      NaN   \n",
       "7609  10870     NaN      NaN   \n",
       "7610  10871     NaN      NaN   \n",
       "7611  10872     NaN      NaN   \n",
       "7612  10873     NaN      NaN   \n",
       "\n",
       "                                                   text  target  \n",
       "0     Our Deeds are the Reason of this #earthquake M...       1  \n",
       "1                Forest fire near La Ronge Sask. Canada       1  \n",
       "2     All residents asked to 'shelter in place' are ...       1  \n",
       "3     13,000 people receive #wildfires evacuation or...       1  \n",
       "4     Just got sent this photo from Ruby #Alaska as ...       1  \n",
       "...                                                 ...     ...  \n",
       "7608  Two giant cranes holding a bridge collapse int...       1  \n",
       "7609  @aria_ahrary @TheTawniest The out of control w...       1  \n",
       "7610  M1.94 [01:04 UTC]?5km S of Volcano Hawaii. htt...       1  \n",
       "7611  Police investigating after an e-bike collided ...       1  \n",
       "7612  The Latest: More Homes Razed by Northern Calif...       1  \n",
       "\n",
       "[7613 rows x 5 columns]"
      ]
     },
     "execution_count": 19,
     "metadata": {},
     "output_type": "execute_result"
    }
   ],
   "source": [
    "train_df"
   ]
  },
  {
   "cell_type": "markdown",
   "id": "34124afb-74b8-4b77-ad6a-ca228c189ef1",
   "metadata": {},
   "source": [
    "### Remove unnecessary data"
   ]
  },
  {
   "cell_type": "code",
   "execution_count": 20,
   "id": "822b4b37-af2f-4710-b6f8-fa2f2694f0dd",
   "metadata": {},
   "outputs": [
    {
     "data": {
      "text/html": [
       "<div>\n",
       "<style scoped>\n",
       "    .dataframe tbody tr th:only-of-type {\n",
       "        vertical-align: middle;\n",
       "    }\n",
       "\n",
       "    .dataframe tbody tr th {\n",
       "        vertical-align: top;\n",
       "    }\n",
       "\n",
       "    .dataframe thead th {\n",
       "        text-align: right;\n",
       "    }\n",
       "</style>\n",
       "<table border=\"1\" class=\"dataframe\">\n",
       "  <thead>\n",
       "    <tr style=\"text-align: right;\">\n",
       "      <th></th>\n",
       "      <th>id</th>\n",
       "      <th>keyword</th>\n",
       "      <th>location</th>\n",
       "      <th>text</th>\n",
       "      <th>target</th>\n",
       "    </tr>\n",
       "  </thead>\n",
       "  <tbody>\n",
       "    <tr>\n",
       "      <th>0</th>\n",
       "      <td>1</td>\n",
       "      <td>NaN</td>\n",
       "      <td>NaN</td>\n",
       "      <td>Our Deeds are the Reason of this #earthquake M...</td>\n",
       "      <td>1</td>\n",
       "    </tr>\n",
       "    <tr>\n",
       "      <th>1</th>\n",
       "      <td>4</td>\n",
       "      <td>NaN</td>\n",
       "      <td>NaN</td>\n",
       "      <td>Forest fire near La Ronge Sask. Canada</td>\n",
       "      <td>1</td>\n",
       "    </tr>\n",
       "    <tr>\n",
       "      <th>2</th>\n",
       "      <td>5</td>\n",
       "      <td>NaN</td>\n",
       "      <td>NaN</td>\n",
       "      <td>All residents asked to 'shelter in place' are ...</td>\n",
       "      <td>1</td>\n",
       "    </tr>\n",
       "    <tr>\n",
       "      <th>3</th>\n",
       "      <td>6</td>\n",
       "      <td>NaN</td>\n",
       "      <td>NaN</td>\n",
       "      <td>13,000 people receive #wildfires evacuation or...</td>\n",
       "      <td>1</td>\n",
       "    </tr>\n",
       "    <tr>\n",
       "      <th>4</th>\n",
       "      <td>7</td>\n",
       "      <td>NaN</td>\n",
       "      <td>NaN</td>\n",
       "      <td>Just got sent this photo from Ruby #Alaska as ...</td>\n",
       "      <td>1</td>\n",
       "    </tr>\n",
       "    <tr>\n",
       "      <th>...</th>\n",
       "      <td>...</td>\n",
       "      <td>...</td>\n",
       "      <td>...</td>\n",
       "      <td>...</td>\n",
       "      <td>...</td>\n",
       "    </tr>\n",
       "    <tr>\n",
       "      <th>7608</th>\n",
       "      <td>10869</td>\n",
       "      <td>NaN</td>\n",
       "      <td>NaN</td>\n",
       "      <td>Two giant cranes holding a bridge collapse int...</td>\n",
       "      <td>1</td>\n",
       "    </tr>\n",
       "    <tr>\n",
       "      <th>7609</th>\n",
       "      <td>10870</td>\n",
       "      <td>NaN</td>\n",
       "      <td>NaN</td>\n",
       "      <td>@aria_ahrary @TheTawniest The out of control w...</td>\n",
       "      <td>1</td>\n",
       "    </tr>\n",
       "    <tr>\n",
       "      <th>7610</th>\n",
       "      <td>10871</td>\n",
       "      <td>NaN</td>\n",
       "      <td>NaN</td>\n",
       "      <td>M1.94 [01:04 UTC]?5km S of Volcano Hawaii. htt...</td>\n",
       "      <td>1</td>\n",
       "    </tr>\n",
       "    <tr>\n",
       "      <th>7611</th>\n",
       "      <td>10872</td>\n",
       "      <td>NaN</td>\n",
       "      <td>NaN</td>\n",
       "      <td>Police investigating after an e-bike collided ...</td>\n",
       "      <td>1</td>\n",
       "    </tr>\n",
       "    <tr>\n",
       "      <th>7612</th>\n",
       "      <td>10873</td>\n",
       "      <td>NaN</td>\n",
       "      <td>NaN</td>\n",
       "      <td>The Latest: More Homes Razed by Northern Calif...</td>\n",
       "      <td>1</td>\n",
       "    </tr>\n",
       "  </tbody>\n",
       "</table>\n",
       "<p>7613 rows × 5 columns</p>\n",
       "</div>"
      ],
      "text/plain": [
       "         id keyword location  \\\n",
       "0         1     NaN      NaN   \n",
       "1         4     NaN      NaN   \n",
       "2         5     NaN      NaN   \n",
       "3         6     NaN      NaN   \n",
       "4         7     NaN      NaN   \n",
       "...     ...     ...      ...   \n",
       "7608  10869     NaN      NaN   \n",
       "7609  10870     NaN      NaN   \n",
       "7610  10871     NaN      NaN   \n",
       "7611  10872     NaN      NaN   \n",
       "7612  10873     NaN      NaN   \n",
       "\n",
       "                                                   text  target  \n",
       "0     Our Deeds are the Reason of this #earthquake M...       1  \n",
       "1                Forest fire near La Ronge Sask. Canada       1  \n",
       "2     All residents asked to 'shelter in place' are ...       1  \n",
       "3     13,000 people receive #wildfires evacuation or...       1  \n",
       "4     Just got sent this photo from Ruby #Alaska as ...       1  \n",
       "...                                                 ...     ...  \n",
       "7608  Two giant cranes holding a bridge collapse int...       1  \n",
       "7609  @aria_ahrary @TheTawniest The out of control w...       1  \n",
       "7610  M1.94 [01:04 UTC]?5km S of Volcano Hawaii. htt...       1  \n",
       "7611  Police investigating after an e-bike collided ...       1  \n",
       "7612  The Latest: More Homes Razed by Northern Calif...       1  \n",
       "\n",
       "[7613 rows x 5 columns]"
      ]
     },
     "execution_count": 20,
     "metadata": {},
     "output_type": "execute_result"
    }
   ],
   "source": [
    "train_df"
   ]
  },
  {
   "cell_type": "markdown",
   "id": "2908cfbe-c03d-4dc0-a040-f7a3c9e5e565",
   "metadata": {},
   "source": [
    "### Sample tweet"
   ]
  },
  {
   "cell_type": "code",
   "execution_count": 21,
   "id": "70b947de-3c9a-4c2e-a6cd-5d7daea06b05",
   "metadata": {},
   "outputs": [
    {
     "name": "stdout",
     "output_type": "stream",
     "text": [
      "         id  keyword location  \\\n",
      "15       23      NaN      NaN   \n",
      "16       24      NaN      NaN   \n",
      "17       25      NaN      NaN   \n",
      "18       26      NaN      NaN   \n",
      "19       28      NaN      NaN   \n",
      "...     ...      ...      ...   \n",
      "7581  10833  wrecked  Lincoln   \n",
      "7582  10834  wrecked      NaN   \n",
      "7584  10837      NaN      NaN   \n",
      "7587  10841      NaN      NaN   \n",
      "7593  10848      NaN      NaN   \n",
      "\n",
      "                                                   text  target  \n",
      "15                                       What's up man?       0  \n",
      "16                                        I love fruits       0  \n",
      "17                                     Summer is lovely       0  \n",
      "18                                    My car is so fast       0  \n",
      "19                         What a goooooooaaaaaal!!!!!!       0  \n",
      "...                                                 ...     ...  \n",
      "7581  @engineshed Great atmosphere at the British Li...       0  \n",
      "7582  Cramer: Iger's 3 words that wrecked Disney's s...       0  \n",
      "7584  These boxes are ready to explode! Exploding Ki...       0  \n",
      "7587                                 Sirens everywhere!       0  \n",
      "7593  I just heard a really loud bang and everyone i...       0  \n",
      "\n",
      "[4342 rows x 5 columns]\n"
     ]
    }
   ],
   "source": [
    "print(train_df[train_df[\"target\"] == 0])"
   ]
  },
  {
   "cell_type": "code",
   "execution_count": 22,
   "id": "848c1a99-27a9-4322-8c29-0313704c2b9c",
   "metadata": {
    "scrolled": true
   },
   "outputs": [
    {
     "name": "stdout",
     "output_type": "stream",
     "text": [
      "         id keyword location  \\\n",
      "0         1     NaN      NaN   \n",
      "1         4     NaN      NaN   \n",
      "2         5     NaN      NaN   \n",
      "3         6     NaN      NaN   \n",
      "4         7     NaN      NaN   \n",
      "...     ...     ...      ...   \n",
      "7608  10869     NaN      NaN   \n",
      "7609  10870     NaN      NaN   \n",
      "7610  10871     NaN      NaN   \n",
      "7611  10872     NaN      NaN   \n",
      "7612  10873     NaN      NaN   \n",
      "\n",
      "                                                   text  target  \n",
      "0     Our Deeds are the Reason of this #earthquake M...       1  \n",
      "1                Forest fire near La Ronge Sask. Canada       1  \n",
      "2     All residents asked to 'shelter in place' are ...       1  \n",
      "3     13,000 people receive #wildfires evacuation or...       1  \n",
      "4     Just got sent this photo from Ruby #Alaska as ...       1  \n",
      "...                                                 ...     ...  \n",
      "7608  Two giant cranes holding a bridge collapse int...       1  \n",
      "7609  @aria_ahrary @TheTawniest The out of control w...       1  \n",
      "7610  M1.94 [01:04 UTC]?5km S of Volcano Hawaii. htt...       1  \n",
      "7611  Police investigating after an e-bike collided ...       1  \n",
      "7612  The Latest: More Homes Razed by Northern Calif...       1  \n",
      "\n",
      "[3271 rows x 5 columns]\n"
     ]
    }
   ],
   "source": [
    "print(train_df[train_df[\"target\"] == 1])"
   ]
  },
  {
   "cell_type": "markdown",
   "id": "47fbc5a7-fc5e-4e96-80ce-6fcd625ff30c",
   "metadata": {},
   "source": [
    "## Histogram"
   ]
  },
  {
   "cell_type": "code",
   "execution_count": 23,
   "id": "4e1e8a18-123f-4720-beb4-08d43706c735",
   "metadata": {},
   "outputs": [
    {
     "data": {
      "image/png": "[encoded data removed]",
      "text/plain": [
       "<Figure size 800x600 with 1 Axes>"
      ]
     },
     "metadata": {},
     "output_type": "display_data"
    }
   ],
   "source": [
    "plt.figure(figsize=(8, 6))\n",
    "plt.hist(train_df['target'], bins=2, edgecolor='black')\n",
    "plt.title('Histogram of Target Variable')\n",
    "plt.xlabel('Target')\n",
    "plt.ylabel('Frequency')\n",
    "plt.xticks([0, 1], ['0', '1'])\n",
    "plt.show()"
   ]
  },
  {
   "cell_type": "markdown",
   "id": "d442425e-195a-4cbe-a494-75410bc0870e",
   "metadata": {},
   "source": [
    "### Plan of action"
   ]
  },
  {
   "cell_type": "markdown",
   "id": "bdaa29f3-d94e-49a9-ad70-ae6357be0116",
   "metadata": {},
   "source": [
    "### Encode labels"
   ]
  },
  {
   "cell_type": "code",
   "execution_count": 24,
   "id": "79979582-d098-4dd9-af30-3ac75cad572b",
   "metadata": {},
   "outputs": [],
   "source": [
    "train_df.fillna('', inplace = True)\n",
    "test_df.fillna('', inplace = True)\n",
    "\n",
    "keywordEncoder = LabelEncoder()\n",
    "train_df['keyword'] = keywordEncoder.fit_transform(train_df['keyword'])\n",
    "test_df['keyword'] = keywordEncoder.transform(test_df['keyword'])\n",
    "\n",
    "locationEncoder = LabelEncoder()\n",
    "train_df['location'] = locationEncoder.fit_transform(train_df['location'])\n",
    "test_df['location'] = locationEncoder.fit_transform(test_df['location'])"
   ]
  },
  {
   "cell_type": "code",
   "execution_count": 25,
   "id": "9481cf5f-58e0-4d62-91a1-8400e1924da2",
   "metadata": {},
   "outputs": [],
   "source": [
    "from collections import Counter\n",
    "from nltk.tokenize import TweetTokenizer\n",
    "\n",
    "def get_vocab(sentence_list):\n",
    "    \"\"\"\n",
    "    Build a vocabulary from a list of sentences.\n",
    "    \n",
    "    Args:\n",
    "        sentence_list (List[str]): List of sentences to build the vocabulary from.\n",
    "    \n",
    "    Returns:\n",
    "        dict: A dictionary mapping words to indices.\n",
    "    \"\"\"\n",
    "    tokenizer = TweetTokenizer(strip_handles=True, reduce_len=True)\n",
    "    word_list = []\n",
    "    \n",
    "    # Tokenize sentences and accumulate words\n",
    "    for sentence in sentence_list:\n",
    "        word_list.extend(tokenizer.tokenize(sentence.lower()))\n",
    "    \n",
    "    frequency_counter = Counter(word_list)\n",
    "    frequency = sorted(frequency_counter, key=frequency_counter.get, reverse=True)\n",
    "    \n",
    "    onehot_dict = {word: i+1 for i, word in enumerate(frequency)}\n",
    "    onehot_dict[\"<UNK>\"] = 0  # Add unknown token\n",
    "    \n",
    "    return onehot_dict"
   ]
  },
  {
   "cell_type": "code",
   "execution_count": 26,
   "id": "e60c7ba5-646b-42fb-bfc1-3057fddf86a3",
   "metadata": {},
   "outputs": [],
   "source": [
    "def preprocess_string(text, tokenizer):\n",
    "    \"\"\"\n",
    "    Preprocesses a given text string by tokenizing and lowercasing.\n",
    "    \n",
    "    Args:\n",
    "        text (str): The input string to preprocess.\n",
    "        tokenizer (TweetTokenizer): Tokenizer object to tokenize the text.\n",
    "    \n",
    "    Returns:\n",
    "        List[str]: A list of processed tokens.\n",
    "    \"\"\"\n",
    "    return tokenizer.tokenize(text.lower())\n",
    "\n",
    "def preprocess_data(data: pd.DataFrame, vocab=None):\n",
    "    \"\"\"\n",
    "    Preprocess the data by tokenizing and converting text to numerical format.\n",
    "    \n",
    "    If vocab is provided, this function will preprocess the data for testing. \n",
    "    Otherwise, it will split the data into training and development sets, build a vocabulary, \n",
    "    and preprocess the text data accordingly.\n",
    "    \n",
    "    Args:\n",
    "        data (pd.DataFrame): The input data containing text and (optionally) target labels.\n",
    "        vocab (dict, optional): Vocabulary mapping words to indices. Defaults to None.\n",
    "    \n",
    "    Returns:\n",
    "        Tuple: \n",
    "            - new_X_train or new_X_test: List of tokenized and numericalized text data.\n",
    "            - y_train, y_dev, or y_test: Corresponding target labels (if applicable).\n",
    "            - vocab: The vocabulary used (only returned if vocab is not provided).\n",
    "    \"\"\"\n",
    "    tokenizer = TweetTokenizer(strip_handles=True, reduce_len=True)\n",
    "    \n",
    "    if vocab is not None:\n",
    "        # Preprocessing for test data\n",
    "        X_test = data['text'].values\n",
    "        y_test = np.empty((data.shape[0], 1))  # Dummy labels if not provided\n",
    "        \n",
    "        new_X_test = [\n",
    "            [vocab.get(word, vocab[\"<UNK>\"]) for word in preprocess_string(sentence, tokenizer)]\n",
    "            for sentence in X_test\n",
    "        ]\n",
    "        \n",
    "        return new_X_test, y_test\n",
    "    \n",
    "    # Preprocessing for training data\n",
    "    X = data['text'].values\n",
    "    y = data['target'].values\n",
    "    \n",
    "    # Split data into training and development sets\n",
    "    X_train, X_dev, y_train, y_dev = train_test_split(X, y, test_size=0.2, stratify=y)\n",
    "    print(f'X_train {X_train.shape} | X_dev {X_dev.shape} | y_train {y_train.shape} | y_dev {y_dev.shape}')\n",
    "    \n",
    "    # Build vocabulary from training data\n",
    "    vocab = get_vocab(X_train)\n",
    "    \n",
    "    # Convert sentences to numericalized format based on the vocabulary\n",
    "    new_X_train = [\n",
    "        [vocab.get(word, vocab[\"<UNK>\"]) for word in preprocess_string(sentence, tokenizer)]\n",
    "        for sentence in X_train\n",
    "    ]\n",
    "    \n",
    "    new_X_dev = [\n",
    "        [vocab.get(word, vocab[\"<UNK>\"]) for word in preprocess_string(sentence, tokenizer)]\n",
    "        for sentence in X_dev\n",
    "    ]\n",
    "    \n",
    "    return new_X_train, new_X_dev, y_train, y_dev, vocab"
   ]
  },
  {
   "cell_type": "code",
   "execution_count": 27,
   "id": "ac7b4ee5-544a-486b-8783-f5a155269342",
   "metadata": {},
   "outputs": [
    {
     "name": "stdout",
     "output_type": "stream",
     "text": [
      "X_train (6090,) | X_dev (1523,) | y_train (6090,) | y_dev (1523,)\n"
     ]
    }
   ],
   "source": [
    "X_train, X_dev, y_train, y_dev, vocab = preprocess_data(train_df)"
   ]
  },
  {
   "cell_type": "code",
   "execution_count": 28,
   "id": "e38bb84a-103d-482b-8d4d-eca148b917c4",
   "metadata": {},
   "outputs": [
    {
     "data": {
      "text/plain": [
       "<Axes: >"
      ]
     },
     "execution_count": 28,
     "metadata": {},
     "output_type": "execute_result"
    },
    {
     "data": {
      "image/png": "[encoded data removed]",
      "text/plain": [
       "<Figure size 640x480 with 1 Axes>"
      ]
     },
     "metadata": {},
     "output_type": "display_data"
    }
   ],
   "source": [
    "rev_len = [len(i) for i in X_train]\n",
    "pd.Series(rev_len).hist()"
   ]
  },
  {
   "cell_type": "code",
   "execution_count": 29,
   "id": "cb78bdc8-38c1-4951-983d-4ba25191b1b7",
   "metadata": {},
   "outputs": [],
   "source": [
    "def padding(sentences, seq_len, padding='right'):\n",
    "    \"\"\"\n",
    "    Pads/truncates all sentences to the same length.\n",
    "\n",
    "    Args:\n",
    "        sentences (list of lists): List of tokenized sentences.\n",
    "        seq_len (int): Desired sequence length.\n",
    "        padding (str): 'right' for right-alignment, 'left' for left-alignment.\n",
    "\n",
    "    Returns:\n",
    "        np.array: 2D array with padded sequences.\n",
    "    \"\"\"\n",
    "    # Initialize a 2D array of zeros (padded value).\n",
    "    features = np.zeros((len(sentences), seq_len), dtype=int)\n",
    "\n",
    "    for i, review in enumerate(sentences):\n",
    "        review_len = len(review)\n",
    "        \n",
    "        if review_len == 0:\n",
    "            continue\n",
    "\n",
    "        if padding == 'right':\n",
    "            # If sentence is longer than seq_len, truncate it\n",
    "            features[i, -min(review_len, seq_len):] = np.array(review)[:seq_len]\n",
    "        elif padding == 'left':\n",
    "            # Left-align the sentence and pad with zeros at the end\n",
    "            features[i, :min(review_len, seq_len)] = np.array(review)[:seq_len]\n",
    "\n",
    "    return features"
   ]
  },
  {
   "cell_type": "code",
   "execution_count": 30,
   "id": "7820515c-011c-44f7-b712-95294a8fa488",
   "metadata": {},
   "outputs": [],
   "source": [
    "X_train = padding(X_train, 15)\n",
    "X_dev = padding(X_dev, 15)"
   ]
  },
  {
   "cell_type": "code",
   "execution_count": 31,
   "id": "bd4979be-5361-480f-9b34-0e8e0ed863e9",
   "metadata": {},
   "outputs": [],
   "source": [
    "X_train, y_train = torch.Tensor(X_train), torch.Tensor(y_train)\n",
    "X_dev, y_dev = torch.Tensor(X_dev), torch.Tensor(y_dev)"
   ]
  },
  {
   "cell_type": "code",
   "execution_count": 32,
   "id": "4cff06b6-6cf9-470e-829d-0e818b71899e",
   "metadata": {},
   "outputs": [],
   "source": [
    "train_dataset = TensorDataset(X_train, y_train)\n",
    "dev_dataset = TensorDataset(X_dev, y_dev)\n",
    "\n",
    "batch_size = 13\n",
    "\n",
    "train_dataloader = DataLoader(train_dataset, batch_size = batch_size, shuffle = True, drop_last = True)\n",
    "dev_dataloader = DataLoader(dev_dataset, batch_size = batch_size, drop_last = True)"
   ]
  },
  {
   "cell_type": "markdown",
   "id": "73f3ad9f-2370-4ef5-8763-eec08393a274",
   "metadata": {},
   "source": [
    "## Model Defintion"
   ]
  },
  {
   "cell_type": "markdown",
   "id": "f3ef8d6a-5a66-4475-b310-623982bcd043",
   "metadata": {},
   "source": [
    "Using a Bi-LSTM model."
   ]
  },
  {
   "cell_type": "code",
   "execution_count": 34,
   "id": "89e994cf-2375-454a-a3dc-bc30e82ac969",
   "metadata": {},
   "outputs": [],
   "source": [
    "import torch\n",
    "import torch.nn as nn\n",
    "\n",
    "class TweetClassifier(nn.Module):\n",
    "    def __init__(self, vocab_size, output_size, embedding_dim, hidden_dim, num_layers, kernels, num_filters):\n",
    "        super(TweetClassifier, self).__init__()\n",
    "        \n",
    "        # Embedding layers\n",
    "        self.embedding = nn.Embedding(vocab_size, embedding_dim)\n",
    "        \n",
    "        # LSTM layer\n",
    "        self.lstm = nn.LSTM(embedding_dim, hidden_dim, num_layers, batch_first=True)\n",
    "        \n",
    "        # Fully connected layer for LSTM output\n",
    "        self.lstm_fc = nn.Linear(hidden_dim, hidden_dim)  # Ensure this matches the hidden_dim\n",
    "        \n",
    "        # CNN layers\n",
    "        self.convs = nn.ModuleList([\n",
    "            nn.Conv2d(1, num_filters, (K, embedding_dim)) for K in kernels\n",
    "        ])\n",
    "        \n",
    "        # Calculate the total number of features after concatenation\n",
    "        total_features = hidden_dim + len(kernels) * num_filters\n",
    "        \n",
    "        # Fully connected layer for combined output\n",
    "        self.fc = nn.Linear(total_features, output_size)\n",
    "        \n",
    "    def forward(self, text):\n",
    "        # Embedding lookups\n",
    "        text_embeds = self.embedding(text)\n",
    "        \n",
    "        # LSTM Processing\n",
    "        lstm_out, (hn, _) = self.lstm(text_embeds)\n",
    "        lstm_out = self.lstm_fc(hn[-1])  # Use the last hidden state\n",
    "        \n",
    "        # Add channel dimension for CNN input\n",
    "        text_embeds = text_embeds.unsqueeze(1)\n",
    "        \n",
    "        # CNN Processing\n",
    "        conv_outs = [torch.relu(conv(text_embeds)).squeeze(3) for conv in self.convs]\n",
    "        pooled_outs = [torch.max(out, dim=2)[0] for out in conv_outs]\n",
    "        \n",
    "        # Concatenate LSTM output and CNN outputs\n",
    "        combined_out = torch.cat([lstm_out] + pooled_outs, dim=1)\n",
    "        \n",
    "        # Final fully connected layer\n",
    "        out = self.fc(combined_out)\n",
    "        \n",
    "        return out\n"
   ]
  },
  {
   "cell_type": "markdown",
   "id": "9aa86a2f-b60b-4482-aeba-d573601dec84",
   "metadata": {},
   "source": [
    "## Train"
   ]
  },
  {
   "cell_type": "markdown",
   "id": "f8407578-a9d2-4bea-9ff2-e23455bdf649",
   "metadata": {},
   "source": [
    "#### Utility functions"
   ]
  },
  {
   "cell_type": "code",
   "execution_count": 44,
   "id": "86f0a044-69ff-4087-85b4-d9fe9becf11a",
   "metadata": {},
   "outputs": [
    {
     "name": "stderr",
     "output_type": "stream",
     "text": [
      "100%|███████████████████████████████████████████████████████████████████████████████████████████████████████████| 100/100 [08:53<00:00,  5.33s/it]\n"
     ]
    }
   ],
   "source": [
    "from tqdm import tqdm\n",
    "import torch\n",
    "import torch.optim as optim\n",
    "import torch.nn as nn\n",
    "from sklearn.model_selection import train_test_split\n",
    "\n",
    "# Check device\n",
    "device = torch.device('cuda' if torch.cuda.is_available() else 'cpu')\n",
    "\n",
    "# General Params\n",
    "add_lr_scheduler = True\n",
    "output_size = 1\n",
    "batch_size = 512\n",
    "n_epochs = 100\n",
    "clip = 5\n",
    "\n",
    "# Embedding params\n",
    "num_words = 100\n",
    "embedding_dim = 728\n",
    "\n",
    "# CNN Params\n",
    "kernels = (2, 3, 4, 5)\n",
    "num_filters = 8  # 8 ==> 16\n",
    "\n",
    "# LSTM Params\n",
    "hidden_dim = 256\n",
    "num_layers = 2\n",
    "\n",
    "# Model\n",
    "model = TweetClassifier(\n",
    "    output_size=output_size,\n",
    "    vocab_size=len(vocab) - 1,\n",
    "    embedding_dim=embedding_dim,\n",
    "    hidden_dim=hidden_dim,\n",
    "    num_layers=num_layers,\n",
    "    kernels=kernels,\n",
    "    num_filters=num_filters,\n",
    ").to(device)\n",
    "\n",
    "# Define optimizer and loss function\n",
    "optimizer = optim.Adam(model.parameters(), lr=0.0001, weight_decay=0.01)\n",
    "criterion = nn.BCEWithLogitsLoss()  # Assuming binary classification\n",
    "\n",
    "scheduler = optim.lr_scheduler.StepLR(optimizer, step_size=5, gamma=0.1)  # Example scheduler\n",
    "\n",
    "trainAcc = []\n",
    "trainLoss = []\n",
    "devAcc = []\n",
    "devLoss = []\n",
    "    \n",
    "yTrue, yPred = [], []\n",
    "\n",
    "for epochi in tqdm(range(n_epochs)):\n",
    "        batchAcc = []\n",
    "        batchLoss = []\n",
    "\n",
    "        model.train()\n",
    "\n",
    "        for X, y in train_dataloader:\n",
    "            X, y = X.to(device, dtype=torch.int), y.to(device)\n",
    "            yhat = model(X)\n",
    "            yhat = yhat.squeeze()\n",
    "            loss = criterion(yhat, y)\n",
    "\n",
    "            batchAcc.append(100*torch.mean(((yhat.cpu() > .0) == y.cpu()).float()))\n",
    "            batchLoss.append(loss.item())\n",
    "            \n",
    "            optimizer.zero_grad()\n",
    "            loss.backward()\n",
    "        \n",
    "            optimizer.step()\n",
    "\n",
    "            nn.utils.clip_grad_norm_(model.parameters(), clip)\n",
    "            optimizer.step()\n",
    "        \n",
    "        trainAcc.append(np.mean(batchAcc))\n",
    "        trainLoss.append(np.mean(batchLoss))\n",
    "\n",
    "        model.eval()\n",
    "        \n",
    "        with torch.no_grad():\n",
    "        \n",
    "            batchAcc = []\n",
    "            batchLoss = []\n",
    "\n",
    "            for X, y in dev_dataloader:\n",
    "                X, y = X.to(device, dtype=torch.int), y.to(device)\n",
    "                yHat = model(X)\n",
    "                yHat = yHat.squeeze()\n",
    "                loss = criterion(yhat, y)\n",
    "                \n",
    "                yPred.extend(yHat.cpu() > .0)\n",
    "                yTrue.extend(y.cpu())\n",
    "\n",
    "                batchAcc.append(100*torch.mean(((yHat.cpu() > .0) == y.cpu()).float()))\n",
    "                batchLoss.append(loss.item())\n",
    "\n",
    "            devAcc.append(np.mean(batchAcc))\n",
    "            devLoss.append(np.mean(batchLoss))\n"
   ]
  },
  {
   "cell_type": "code",
   "execution_count": 45,
   "id": "a5771d40-3624-44c7-b6d0-b82303931816",
   "metadata": {},
   "outputs": [
    {
     "data": {
      "image/png": "[encoded data removed]",
      "text/plain": [
       "<Figure size 1800x800 with 2 Axes>"
      ]
     },
     "metadata": {},
     "output_type": "display_data"
    }
   ],
   "source": [
    "fig, ax = plt.subplots(1, 2, figsize = (18, 8))\n",
    "\n",
    "ax[0].plot(trainAcc, 'o-', label = 'Train')\n",
    "ax[0].plot(devAcc, 'o-', label = 'Dev')\n",
    "ax[0].set_title(f'Final Dev Accuracy = {devAcc[-1]:.2f}%')\n",
    "ax[0].set_xlabel('Epochs')\n",
    "ax[0].set_ylabel('Accuracy')\n",
    "ax[0].legend()\n",
    "\n",
    "ax[1].plot(trainLoss, 'o-', label = 'Train')\n",
    "ax[1].plot(devLoss, 'o-', label = 'Dev')\n",
    "ax[1].set_title(f'Final Dev Loss = {devLoss[-1]:.2f}')\n",
    "ax[1].set_xlabel('Epochs')\n",
    "ax[1].set_ylabel('Loss')\n",
    "ax[1].legend()\n",
    "\n",
    "plt.show()"
   ]
  },
  {
   "cell_type": "code",
   "execution_count": 51,
   "id": "fc448b9c-020f-4c3b-8b96-d054c88b6314",
   "metadata": {},
   "outputs": [
    {
     "data": {
      "image/png": "[encoded data removed]",
      "text/plain": [
       "<Figure size 800x600 with 2 Axes>"
      ]
     },
     "metadata": {},
     "output_type": "display_data"
    }
   ],
   "source": [
    "cm = confusion_matrix(yTrue, yPred)\n",
    "\n",
    "plt.figure(figsize=(8, 6))\n",
    "sns.heatmap(cm, annot=True, fmt='g')\n",
    "plt.xlabel('Predicted')\n",
    "plt.ylabel('Actual')\n",
    "plt.title('Confusion Matrix')\n",
    "plt.show()"
   ]
  },
  {
   "cell_type": "code",
   "execution_count": 52,
   "id": "3ab8d83e-6ddb-48f6-92e3-b0a64685cff1",
   "metadata": {},
   "outputs": [],
   "source": [
    "precision = precision_score(yTrue, yPred)\n",
    "recall = recall_score(yTrue, yPred)\n",
    "f1Score = f1_score(yTrue, yPred)"
   ]
  },
  {
   "cell_type": "code",
   "execution_count": 55,
   "id": "4c1fb40b-f19b-4c0f-b1cb-d0bd2abbbb18",
   "metadata": {},
   "outputs": [
    {
     "data": {
      "text/html": [
       "\n",
       "    <div style=\"display: flex; flex-direction: row; justify-content: center; align-items: center; gap: 30px\">\n",
       "        <span>\n",
       "            <h3 style=\"line-height: 30px; background-color: #cc3d76; padding: 20px 20px; border-radius: 8px\">Precision 0.78</h3>\n",
       "        </span>\n",
       "        \n",
       "        <span>\n",
       "            <h3 style=\"line-height: 30px; background-color: #b3245d; padding: 20px 20px; border-radius: 8px\">Recall 0.64</h3>\n",
       "        </span>\n",
       "        \n",
       "        <span>\n",
       "            <h3 style=\"line-height: 30px; background-color: #d40457; padding: 20px 20px; border-radius: 8px\">F1-Score 0.70</h3>\n",
       "        </span>\n",
       "    </div>\n"
      ],
      "text/plain": [
       "<IPython.core.display.HTML object>"
      ]
     },
     "execution_count": 55,
     "metadata": {},
     "output_type": "execute_result"
    }
   ],
   "source": [
    "html_code = f\"\"\"\n",
    "    <div style=\"display: flex; flex-direction: row; justify-content: center; align-items: center; gap: 30px\">\n",
    "        <span>\n",
    "            <h3 style=\"line-height: 30px; background-color: #cc3d76; padding: 20px 20px; border-radius: 8px\">Precision {precision:.2f}</h3>\n",
    "        </span>\n",
    "        \n",
    "        <span>\n",
    "            <h3 style=\"line-height: 30px; background-color: #b3245d; padding: 20px 20px; border-radius: 8px\">Recall {recall:.2f}</h3>\n",
    "        </span>\n",
    "        \n",
    "        <span>\n",
    "            <h3 style=\"line-height: 30px; background-color: #d40457; padding: 20px 20px; border-radius: 8px\">F1-Score {f1Score:.2f}</h3>\n",
    "        </span>\n",
    "    </div>\n",
    "\"\"\"\n",
    "HTML(html_code)"
   ]
  }
 ],
 "metadata": {
  "kernelspec": {
   "display_name": "Python 3 (ipykernel)",
   "language": "python",
   "name": "python3"
  },
  "language_info": {
   "codemirror_mode": {
    "name": "ipython",
    "version": 3
   },
   "file_extension": ".py",
   "mimetype": "text/x-python",
   "name": "python",
   "nbconvert_exporter": "python",
   "pygments_lexer": "ipython3",
   "version": "3.11.9"
  }
 },
 "nbformat": 4,
 "nbformat_minor": 5
}
